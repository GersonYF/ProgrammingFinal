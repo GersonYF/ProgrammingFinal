{
  "cells": [
    {
      "cell_type": "markdown",
      "metadata": {
        "id": "GFi27EEnf9-h"
      },
      "source": [
        "# Monitoreo de la calidad de aire en la Universidad Autónoma de Occidente, Cali. - Proyecto Final\n",
        "## Ingeniería de Datos e Inteligencia Artificial\n",
        "### 2° Semestre\n",
        "### Estudiantes\n",
        "* Maria de los Ángeles Amu Moreno\n",
        "* Samuel Alexander Escalante Gutierrez\n",
        "* Manuela Mayorga Rojas\n",
        "* Laura Ximena Reyes Arcila\n",
        "* Gerson Yarce Franco\n",
        "\n",
        "\n",
        "### Contexto\n",
        "El proyecto que hemos empezado a llevar a cabo trata sobre una de las grandes problemáticas a nivel mundial: la contaminación del aire. El transporte, la generación de energía, las fuentes industriales y domésticas han dado lugar a la contaminación y a cambios en la composición del aire ambiente; además, esta puede afectar gravemente a la salud humana, causando problemas respiratorios, enfermedades cardíacas y cáncer.\n",
        "Nosotros como equipo, nos enfocamos en la Universidad Autónoma de Occidente, en donde además de ser un sitio de nuestro fácil acceso, posee ayudas como un sensor de monitoreo de la calidad del aire, en donde podremos recolectar muy buena información para la captura de datos y así poder abordar este proyecto.\n"
      ]
    },
    {
      "cell_type": "markdown",
      "metadata": {
        "id": "EBv_YoAWh2IB"
      },
      "source": [
        "### Indice\n",
        "1. Configuración inicial del proyecto\n",
        "2. Preparación de datos\n",
        "3. Analisis exploratorio\n",
        "4. Conclusiones"
      ]
    },
    {
      "cell_type": "markdown",
      "metadata": {
        "id": "soaqPsFoimwV"
      },
      "source": [
        "### 1. configuración Inicial del proyecto"
      ]
    },
    {
      "cell_type": "code",
      "execution_count": null,
      "metadata": {
        "id": "inXrsD2lf9S6"
      },
      "outputs": [],
      "source": []
    },
    {
      "cell_type": "markdown",
      "metadata": {
        "id": "4wMxRgDlivW9"
      },
      "source": [
        "### 2. Preparación de datos"
      ]
    },
    {
      "cell_type": "code",
      "execution_count": null,
      "metadata": {
        "id": "B_MBg3MPi0EZ"
      },
      "outputs": [],
      "source": []
    },
    {
      "cell_type": "markdown",
      "metadata": {
        "id": "pAAzI2U6i0Qy"
      },
      "source": [
        "### 3. Analisis exploratorio"
      ]
    },
    {
      "cell_type": "code",
      "execution_count": null,
      "metadata": {
        "id": "cZLW9br6i7D9"
      },
      "outputs": [],
      "source": []
    },
    {
      "cell_type": "markdown",
      "metadata": {
        "id": "5xxOq2nci7VC"
      },
      "source": [
        "### 4. Conclusiones"
      ]
    }
  ],
  "metadata": {
    "colab": {
      "name": "Monitoreo de la calidad de aire en la UAO - Cali.ipynb",
      "provenance": []
    },
    "kernelspec": {
      "display_name": "Python 3.10.5 64-bit",
      "language": "python",
      "name": "python3"
    },
    "language_info": {
      "name": "python",
      "version": "3.10.5"
    },
    "vscode": {
      "interpreter": {
        "hash": "b8156b988bcdcf643bdab01851767586a1a06ec9904e1f5f065ae8b5019d608d"
      }
    }
  },
  "nbformat": 4,
  "nbformat_minor": 0
}
